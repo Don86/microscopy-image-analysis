{
 "cells": [
  {
   "cell_type": "code",
   "execution_count": 3,
   "metadata": {
    "collapsed": false
   },
   "outputs": [],
   "source": [
    "%matplotlib inline\n",
    "import matplotlib.pyplot as plt\n",
    "\n",
    "import numpy as np\n",
    "import pickle\n",
    "import pandas as pd\n",
    "import time\n",
    "\n",
    "from sklearn import cross_validation\n",
    "from skimage.transform import downscale_local_mean\n",
    "\n",
    "data_path = '/Users/don/Documents/patch_data/'"
   ]
  },
  {
   "cell_type": "markdown",
   "metadata": {},
   "source": [
    "<font size = 5><b>Loading Block</b></font>\n",
    "<br>Load the dataframe that you want. This can be patch-level data."
   ]
  },
  {
   "cell_type": "code",
   "execution_count": 4,
   "metadata": {
    "collapsed": false
   },
   "outputs": [
    {
     "name": "stdout",
     "output_type": "stream",
     "text": [
      "/Users/don/Documents/patch_data/p1.p\n",
      "(24000, 6)\n"
     ]
    }
   ],
   "source": [
    "fn = 'p1'\n",
    "f_path = data_path+fn+'.p'\n",
    "print(f_path)\n",
    "df0 = pickle.load(open(f_path, 'rb'))\n",
    "print(df0.shape) #this is a pd DF"
   ]
  },
  {
   "cell_type": "code",
   "execution_count": 5,
   "metadata": {
    "collapsed": false
   },
   "outputs": [
    {
     "name": "stdout",
     "output_type": "stream",
     "text": [
      "24000 12\n",
      "[2000, 2000, 2000, 2000, 2000, 2000, 2000, 2000, 2000, 2000, 2000, 2000]\n",
      "24000 120\n"
     ]
    }
   ],
   "source": [
    "# Get the moa labels, and moa_ref\n",
    "moa_ls = list(df0['moa'])\n",
    "moa_ref = list(set(moa_ls))\n",
    "print(len(moa_ls), len(moa_ref))\n",
    "\n",
    "c_ls = []\n",
    "for i in range(len(moa_ref)):\n",
    "    c = moa_ls.count(moa_ref[i])\n",
    "    c_ls.append(c)\n",
    "print(c_ls)\n",
    "\n",
    "# Get the img_idx labels, and idx_ref\n",
    "idx_ls = list(df0['img_idx'])\n",
    "idx_ref = list(set(idx_ls))\n",
    "\n",
    "print(len(idx_ls), len(idx_ref))"
   ]
  },
  {
   "cell_type": "code",
   "execution_count": 6,
   "metadata": {
    "collapsed": false
   },
   "outputs": [
    {
     "name": "stdout",
     "output_type": "stream",
     "text": [
      "(24000, 30, 30, 3)\n",
      "(24000, 2700)\n"
     ]
    }
   ],
   "source": [
    "img_data = np.array(list(df0['img']))\n",
    "print(img_data.shape)\n",
    "# unravel\n",
    "img_data = img_data.reshape(len(img_data), -1)\n",
    "print(img_data.shape)"
   ]
  },
  {
   "cell_type": "code",
   "execution_count": null,
   "metadata": {
    "collapsed": false
   },
   "outputs": [],
   "source": [
    "# PCA viz\n",
    "from sklearn.decomposition import PCA\n",
    "n_PCs=1000\n",
    "y_pca = PCA(n_components = n_PCs)\n",
    "y_pca_fit = y_pca.fit_transform(img_data)\n",
    "POV = y_pca.explained_variance_ratio_\n",
    "\n",
    "print(\"Total explained variances =\",sum(POV))\n",
    "\n",
    "c_POV = [POV[0]]\n",
    "a1 = 0; a2 = 0; a3 = 0\n",
    "for i in range(1,len(POV)):\n",
    "    c = c_POV[i-1] + POV[i]\n",
    "    c_POV.append(c)\n",
    "    if c > 0.95 and a1 == 0:\n",
    "        print(\"PC(%s): %.3f%%\" % (i, c*100))\n",
    "        a1 = 1\n",
    "    if c > 0.99 and a2 == 0:\n",
    "        print(\"PC(%s): %.3f%%\" % (i, c*100))\n",
    "        a2 = 1\n",
    "    if c > 0.999 and a2 == 0:\n",
    "        print(\"PC(%s): %.3f%%\" % (i, c*100))\n",
    "        a3 = 1"
   ]
  },
  {
   "cell_type": "code",
   "execution_count": null,
   "metadata": {
    "collapsed": false
   },
   "outputs": [],
   "source": [
    "c_POV = [POV[0]]\n",
    "a1 = 0; a2 = 0; a3 = 0\n",
    "for i in range(1,len(POV)):\n",
    "    c = c_POV[i-1] + POV[i]\n",
    "    c_POV.append(c)\n",
    "    if c > 0.95 and a1 == 0:\n",
    "        print(\"PC(%s): %.3f%%\" % (i, c*100))\n",
    "        a1 = 1\n",
    "    if c > 0.99 and a2 == 0:\n",
    "        print(\"PC(%s): %.3f%%\" % (i, c*100))\n",
    "        a2 = 1\n",
    "    if c > 0.999 and a2 == 0:\n",
    "        print(\"PC(%s): %.3f%%\" % (i, c*100))\n",
    "        a3 = 1\n",
    "    \n",
    "plt.plot(c_POV[:100])"
   ]
  },
  {
   "cell_type": "markdown",
   "metadata": {},
   "source": [
    "<font size = 5><b>5-Fold split</b></font><br>Cut the data up into 5 subsets of 24 images each, 2 for each class."
   ]
  },
  {
   "cell_type": "code",
   "execution_count": 20,
   "metadata": {
    "collapsed": false
   },
   "outputs": [
    {
     "name": "stdout",
     "output_type": "stream",
     "text": [
      "(24000, 6)\n"
     ]
    }
   ],
   "source": [
    "dk = df0.copy()\n",
    "dk = dk.sort_values(by=['moa', 'img_idx'])\n",
    "# Now every 2000 rows should be the same MOA, every 200 rows shuld be the same img_idx\n"
   ]
  },
  {
   "cell_type": "code",
   "execution_count": 21,
   "metadata": {
    "collapsed": false
   },
   "outputs": [
    {
     "name": "stdout",
     "output_type": "stream",
     "text": [
      "24000\n"
     ]
    }
   ],
   "source": [
    "n_k = 5 #no. of folds\n",
    "n_pat = 200 #no. of patches per image\n",
    "n_im = 10 # no. of images per class\n",
    "n_classes = 12\n",
    "\n",
    "k_fold = []\n",
    "for i in range(n_k):\n",
    "    k_temp = n_pat * [i]\n",
    "    k_fold = k_fold + k_temp\n",
    "k_fold = k_fold*int(n_im/n_k)\n",
    "k_fold = k_fold*n_classes\n",
    "print(len(k_fold))\n",
    "\n",
    "dk['kfold'] = k_fold"
   ]
  },
  {
   "cell_type": "code",
   "execution_count": 38,
   "metadata": {
    "collapsed": false
   },
   "outputs": [
    {
     "name": "stdout",
     "output_type": "stream",
     "text": [
      "[1, 2, 3, 4]\n",
      "(19200, 7)\n",
      "Checking Aurora kinase inhibitors:8: 200, 200, 200, 200, 200, 200, 200, 200, \n",
      "Checking Kinase inhibitors:8: 200, 200, 200, 200, 200, 200, 200, 200, \n",
      "Checking DNA damage:8: 200, 200, 200, 200, 200, 200, 200, 200, \n",
      "Checking Epithelial:8: 200, 200, 200, 200, 200, 200, 200, 200, \n",
      "Checking Microtubule stabilizers:8: 200, 200, 200, 200, 200, 200, 200, 200, \n",
      "Checking Eg5 inhibitors:8: 200, 200, 200, 200, 200, 200, 200, 200, \n",
      "Checking Microtubule destabilizers:8: 200, 200, 200, 200, 200, 200, 200, 200, \n",
      "Checking Actin disruptors:8: 200, 200, 200, 200, 200, 200, 200, 200, \n",
      "Checking Protein synthesis:8: 200, 200, 200, 200, 200, 200, 200, 200, \n",
      "Checking DNA replication:8: 200, 200, 200, 200, 200, 200, 200, 200, \n",
      "Checking Protein degradation:8: 200, 200, 200, 200, 200, 200, 200, 200, \n",
      "Checking Cholesterol-lowering:8: 200, 200, 200, 200, 200, 200, 200, 200, \n"
     ]
    }
   ],
   "source": [
    "# Fold extraction - test code to extract 4 folds, except for some selected fold k\n",
    "folds = [0,1,2,3,4]\n",
    "folds.remove(0)\n",
    "print(folds)\n",
    "\n",
    "dk0 = dk.loc[dk['kfold'].isin(folds)]\n",
    "print(dk0.shape)\n",
    "\n",
    "# Check that: all 12 MOAs are represented\n",
    "# 24 unique images\n",
    "# 2 images per MOA\n",
    "# 200 patches per image\n",
    "\n",
    "for moa in moa_ref:\n",
    "    print(\"Checking %s\" % moa, end=\":\")\n",
    "    d_temp = dk0.loc[dk0['moa']==moa]\n",
    "    im_ls_ref = list(set(d_temp['img_idx']))\n",
    "    print(len(im_ls_ref), end=\": \")\n",
    "    for im in im_ls_ref:\n",
    "        d_temp2 = d_temp.loc[d_temp['img_idx']==im]\n",
    "        print(len(d_temp2), end=\", \")\n",
    "    print(\"\")"
   ]
  },
  {
   "cell_type": "code",
   "execution_count": 40,
   "metadata": {
    "collapsed": false
   },
   "outputs": [
    {
     "name": "stdout",
     "output_type": "stream",
     "text": [
      "/Users/don/Documents/patch_data/p1_k.p\n"
     ]
    }
   ],
   "source": [
    "save_str = data_path+fn+'_k.p'\n",
    "print(save_str)\n",
    "pickle.dump(dk, open(data_path+fn+'_k.p', 'wb'))"
   ]
  },
  {
   "cell_type": "markdown",
   "metadata": {},
   "source": [
    "<font size = 5><b>Tr/Te split</b></font>"
   ]
  },
  {
   "cell_type": "code",
   "execution_count": null,
   "metadata": {
    "collapsed": false
   },
   "outputs": [],
   "source": [
    "# Select 80% of the images for training, 20% for testing\n",
    "# For each MOA, select 80% of the images for training, the rest for testing\n",
    "p_tr = 0.8\n",
    "\n",
    "d_tr = pd.DataFrame({'img':[], 'pw':[], 'cpd':[], 'cc':[], 'moa':[], 'img_idx':[]})\n",
    "d_te = pd.DataFrame({'img':[], 'pw':[], 'cpd':[], 'cc':[], 'moa':[], 'img_idx':[]})\n",
    "\n",
    "for moa in moa_ref:\n",
    "    d_temp = df0.loc[df0['moa'] == moa]\n",
    "    img_ls_temp = list(set(d_temp['img_idx']))\n",
    "    tr_indices = np.random.choice(img_ls_temp, int(p_tr*len(img_ls_temp)), replace=False)\n",
    "    te_indices = list(set(img_ls_temp) - set(tr_indices))\n",
    "    #print(tr_indices, te_indices)\n",
    "    \n",
    "    d_tr_temp = d_temp.loc[d_temp['img_idx'].isin(tr_indices)]\n",
    "    d_te_temp = d_temp.loc[d_temp['img_idx'].isin(te_indices)]\n",
    "    d_tr = pd.concat([d_tr, d_tr_temp])\n",
    "    d_te = pd.concat([d_te, d_te_temp])\n",
    "\n",
    "print(\"No. of training patches = %s\" % (d_tr.shape,))\n",
    "print(\"No. of testing patches = %s\" % (d_te.shape,))\n",
    "moa_ref = list(set(d_tr['moa']))\n",
    "print(\"No. of moa in tr = %s\" % len(moa_ref))\n",
    "moa_ref = list(set(d_te['moa']))\n",
    "print(\"No. of moa in tr = %s\" % len(moa_ref))\n",
    "idx_ref = list(set(d_tr['img_idx']))\n",
    "print(\"No. of unique images in tr = %s\" % len(idx_ref))\n",
    "idx_ref = list(set(d_te['img_idx']))\n",
    "print(\"No. of unique images in te = %s\" % len(idx_ref))"
   ]
  },
  {
   "cell_type": "code",
   "execution_count": null,
   "metadata": {
    "collapsed": true
   },
   "outputs": [],
   "source": [
    "pickle.dump(d_te, open(data_path+fn+'_te.p', 'wb'))\n",
    "pickle.dump(d_tr, open(data_path+fn+'_tr.p', 'wb'))"
   ]
  },
  {
   "cell_type": "code",
   "execution_count": null,
   "metadata": {
    "collapsed": true
   },
   "outputs": [],
   "source": []
  }
 ],
 "metadata": {
  "kernelspec": {
   "display_name": "Python 3",
   "language": "python",
   "name": "python3"
  },
  "language_info": {
   "codemirror_mode": {
    "name": "ipython",
    "version": 3
   },
   "file_extension": ".py",
   "mimetype": "text/x-python",
   "name": "python",
   "nbconvert_exporter": "python",
   "pygments_lexer": "ipython3",
   "version": "3.5.1"
  }
 },
 "nbformat": 4,
 "nbformat_minor": 0
}
